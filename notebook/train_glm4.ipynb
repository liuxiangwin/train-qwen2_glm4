{
 "cells": [
  {
   "cell_type": "markdown",
   "metadata": {},
   "source": [
    "# GLM4大模型微调入门\n",
    "\n",
    "作者：林泽毅\n",
    "\n",
    "教程文章：https://zhuanlan.zhihu.com/p/702608991\n",
    "\n",
    "显存要求：40GB左右  \n",
    "\n",
    "实验过程看：https://swanlab.cn/@ZeyiLin/GLM4-fintune/runs/eabll3xug8orsxzjy4yu4/chart"
   ]
  },
  {
   "cell_type": "markdown",
   "metadata": {},
   "source": [
    "## 1.安装环境\n",
    "\n",
    "本案例测试于modelscope==1.14.0、transformers==4.41.2、datasets==2.18.0、peft==0.11.1、accelerate==0.30.1、swanlab==0.3.10、tiktoken==0.7.0"
   ]
  },
  {
   "cell_type": "code",
   "execution_count": 1,
   "metadata": {},
   "outputs": [
    {
     "name": "stdout",
     "output_type": "stream",
     "text": [
      "\n",
      "\u001b[1m[\u001b[0m\u001b[34;49mnotice\u001b[0m\u001b[1;39;49m]\u001b[0m\u001b[39;49m A new release of pip available: \u001b[0m\u001b[31;49m22.2.2\u001b[0m\u001b[39;49m -> \u001b[0m\u001b[32;49m24.3.1\u001b[0m\n",
      "\u001b[1m[\u001b[0m\u001b[34;49mnotice\u001b[0m\u001b[1;39;49m]\u001b[0m\u001b[39;49m To update, run: \u001b[0m\u001b[32;49mpip install --upgrade pip\u001b[0m\n",
      "Note: you may need to restart the kernel to use updated packages.\n"
     ]
    }
   ],
   "source": [
    "%pip install torch swanlab modelscope transformers datasets peft pandas accelerate tiktoken --quiet"
   ]
  },
  {
   "cell_type": "markdown",
   "metadata": {},
   "source": [
    "如果是第一次使用SwanLab，则前往[SwanLab](https://swanlab.cn)注册账号后，在[用户设置](https://swanlab.cn/settings/overview)复制API Key，如果执行下面的代码："
   ]
  },
  {
   "cell_type": "code",
   "execution_count": 2,
   "metadata": {},
   "outputs": [
    {
     "name": "stdout",
     "output_type": "stream",
     "text": [
      "\u001b[1m\u001b[34mswanlab\u001b[0m\u001b[0m: You are already logged in. Use `\u001b[1mswanlab login --relogin\u001b[0m` to force relogin.\n"
     ]
    }
   ],
   "source": [
    "!swanlab login"
   ]
  },
  {
   "cell_type": "markdown",
   "metadata": {},
   "source": [
    "## 2. 数据集加载\n",
    "\n",
    "1. 在[zh_cls_fudan-news - modelscope](https://modelscope.cn/datasets/huangjintao/zh_cls_fudan-news/files)下载train.jsonl和test.jsonl到同级目录下。\n",
    "\n",
    "<img src=\"../assets/dataset.png\" width=600>"
   ]
  },
  {
   "cell_type": "markdown",
   "metadata": {},
   "source": [
    "2. 将train.jsonl和test.jsonl进行处理，转换成new_train.jsonl和new_test.jsonl"
   ]
  },
  {
   "cell_type": "code",
   "execution_count": 3,
   "metadata": {},
   "outputs": [],
   "source": [
    "# 2.将train.jsonl和test.jsonl进行处理，转换成new_train.jsonl和new_test.jsonl\n",
    "\n",
    "import json\n",
    "import pandas as pd\n",
    "import os\n",
    "\n",
    "def dataset_jsonl_transfer(origin_path, new_path):\n",
    "    \"\"\"\n",
    "    将原始数据集转换为大模型微调所需数据格式的新数据集\n",
    "    \"\"\"\n",
    "    messages = []\n",
    "\n",
    "    # 读取旧的JSONL文件\n",
    "    with open(origin_path, \"r\") as file:\n",
    "        for line in file:\n",
    "            # 解析每一行的json数据\n",
    "            data = json.loads(line)\n",
    "            context = data[\"text\"]\n",
    "            catagory = data[\"category\"]\n",
    "            label = data[\"output\"]\n",
    "            message = {\n",
    "                \"instruction\": \"你是一个文本分类领域的专家，你会接收到一段文本和几个潜在的分类选项，请输出文本内容的正确类型\",\n",
    "                \"input\": f\"文本:{context},类型选型:{catagory}\",\n",
    "                \"output\": label,\n",
    "            }\n",
    "            messages.append(message)\n",
    "\n",
    "    # 保存重构后的JSONL文件\n",
    "    with open(new_path, \"w\", encoding=\"utf-8\") as file:\n",
    "        for message in messages:\n",
    "            file.write(json.dumps(message, ensure_ascii=False) + \"\\n\")\n",
    "\n",
    "\n",
    "# 加载、处理数据集和测试集\n",
    "train_dataset_path = \"train.jsonl\"\n",
    "test_dataset_path = \"test.jsonl\"\n",
    "\n",
    "train_jsonl_new_path = \"new_train.jsonl\"\n",
    "test_jsonl_new_path = \"new_test.jsonl\"\n",
    "\n",
    "if not os.path.exists(train_jsonl_new_path):\n",
    "    dataset_jsonl_transfer(train_dataset_path, train_jsonl_new_path)\n",
    "if not os.path.exists(test_jsonl_new_path):\n",
    "    dataset_jsonl_transfer(test_dataset_path, test_jsonl_new_path)\n",
    "\n",
    "train_df = pd.read_json(train_jsonl_new_path, lines=True)[:1000]  # 取前1000条做训练（可选）\n",
    "test_df = pd.read_json(test_jsonl_new_path, lines=True)[:10]  # 取前10条做主观评测"
   ]
  },
  {
   "cell_type": "markdown",
   "metadata": {},
   "source": [
    "## 3. 下载/加载模型和tokenizer"
   ]
  },
  {
   "cell_type": "code",
   "execution_count": 4,
   "metadata": {},
   "outputs": [
    {
     "name": "stderr",
     "output_type": "stream",
     "text": [
      "2024-10-30 06:50:33,541 - modelscope - WARNING - Using branch: master as version is unstable, use with caution\n"
     ]
    },
    {
     "data": {
      "application/vnd.jupyter.widget-view+json": {
       "model_id": "1875a9d7cc1b4e5aaf8717a5c2046daa",
       "version_major": 2,
       "version_minor": 0
      },
      "text/plain": [
       "Loading checkpoint shards:   0%|          | 0/10 [00:00<?, ?it/s]"
      ]
     },
     "metadata": {},
     "output_type": "display_data"
    }
   ],
   "source": [
    "from modelscope import snapshot_download, AutoTokenizer\n",
    "from transformers import AutoModelForCausalLM, TrainingArguments, Trainer, DataCollatorForSeq2Seq\n",
    "import torch\n",
    "\n",
    "# 在modelscope上下载Qwen模型到本地目录下\n",
    "model_dir = snapshot_download(\"ZhipuAI/glm-4-9b-chat\", cache_dir=\"./\", revision=\"master\")\n",
    "\n",
    "# Transformers加载模型权重\n",
    "tokenizer = AutoTokenizer.from_pretrained(\"./ZhipuAI/glm-4-9b-chat/\", use_fast=False, trust_remote_code=True)\n",
    "model = AutoModelForCausalLM.from_pretrained(\"./ZhipuAI/glm-4-9b-chat/\", \n",
    "                                             device_map=\"auto\",\n",
    "                                             torch_dtype=torch.bfloat16,\n",
    "                                             trust_remote_code=True)\n",
    "model.enable_input_require_grads()  # 开启梯度检查点时，要执行该方法"
   ]
  },
  {
   "cell_type": "markdown",
   "metadata": {},
   "source": [
    "## 4. 预处理训练数据"
   ]
  },
  {
   "cell_type": "code",
   "execution_count": 5,
   "metadata": {},
   "outputs": [],
   "source": [
    "def process_func(example):\n",
    "    \"\"\"\n",
    "    将数据集进行预处理\n",
    "    \"\"\"\n",
    "    MAX_LENGTH = 384\n",
    "    input_ids, attention_mask, labels = [], [], []\n",
    "    instruction = tokenizer(\n",
    "        f\"<|im_start|>system\\n你是一个文本分类领域的专家，你会接收到一段文本和几个潜在的分类选项，请输出文本内容的正确类型<|im_end|>\\n<|im_start|>user\\n{example['input']}<|im_end|>\\n<|im_start|>assistant\\n\",\n",
    "        add_special_tokens=False,\n",
    "    )\n",
    "    response = tokenizer(f\"{example['output']}\", add_special_tokens=False)\n",
    "    input_ids = (\n",
    "        instruction[\"input_ids\"] + response[\"input_ids\"] + [tokenizer.pad_token_id]\n",
    "    )\n",
    "    attention_mask = instruction[\"attention_mask\"] + response[\"attention_mask\"] + [1]\n",
    "    labels = (\n",
    "        [-100] * len(instruction[\"input_ids\"])\n",
    "        + response[\"input_ids\"]\n",
    "        + [tokenizer.pad_token_id]\n",
    "    )\n",
    "    if len(input_ids) > MAX_LENGTH:  # 做一个截断\n",
    "        input_ids = input_ids[:MAX_LENGTH]\n",
    "        attention_mask = attention_mask[:MAX_LENGTH]\n",
    "        labels = labels[:MAX_LENGTH]\n",
    "    return {\"input_ids\": input_ids, \"attention_mask\": attention_mask, \"labels\": labels}"
   ]
  },
  {
   "cell_type": "code",
   "execution_count": 6,
   "metadata": {},
   "outputs": [
    {
     "data": {
      "application/vnd.jupyter.widget-view+json": {
       "model_id": "c9ad3fc435ff45e9ac484e0278c2903d",
       "version_major": 2,
       "version_minor": 0
      },
      "text/plain": [
       "Map:   0%|          | 0/1000 [00:00<?, ? examples/s]"
      ]
     },
     "metadata": {},
     "output_type": "display_data"
    }
   ],
   "source": [
    "from datasets import Dataset\n",
    "\n",
    "train_ds = Dataset.from_pandas(train_df)\n",
    "train_dataset = train_ds.map(process_func, remove_columns=train_ds.column_names)"
   ]
  },
  {
   "cell_type": "markdown",
   "metadata": {},
   "source": [
    "## 5. 设置LORA"
   ]
  },
  {
   "cell_type": "code",
   "execution_count": 7,
   "metadata": {},
   "outputs": [],
   "source": [
    "from peft import LoraConfig, TaskType, get_peft_model\n",
    "\n",
    "config = LoraConfig(\n",
    "    task_type=TaskType.CAUSAL_LM,\n",
    "    target_modules=[\"query_key_value\", \"dense\", \"dense_h_to_4h\", \"activation_func\", \"dense_4h_to_h\"],\n",
    "    inference_mode=False,  # 训练模式\n",
    "    r=8,  # Lora 秩\n",
    "    lora_alpha=32,  # Lora alaph，具体作用参见 Lora 原理\n",
    "    lora_dropout=0.1,  # Dropout 比例\n",
    ")\n",
    "\n",
    "model = get_peft_model(model, config)"
   ]
  },
  {
   "cell_type": "markdown",
   "metadata": {},
   "source": [
    "## 6. 训练"
   ]
  },
  {
   "cell_type": "code",
   "execution_count": 8,
   "metadata": {},
   "outputs": [],
   "source": [
    "args = TrainingArguments(\n",
    "    output_dir=\"./output/GLM4-9b\",\n",
    "    per_device_train_batch_size=4,\n",
    "    gradient_accumulation_steps=4,\n",
    "    logging_steps=10,\n",
    "    num_train_epochs=2,\n",
    "    save_steps=100,\n",
    "    learning_rate=1e-4,\n",
    "    save_on_each_node=True,\n",
    "    gradient_checkpointing=True,\n",
    "    report_to=\"none\",\n",
    ")"
   ]
  },
  {
   "cell_type": "code",
   "execution_count": 9,
   "metadata": {},
   "outputs": [
    {
     "name": "stderr",
     "output_type": "stream",
     "text": [
      "/tmp/ipykernel_370/1911955071.py:1: DeprecationWarning: The module 'huggingface' is deprecated and will be removed in future versions. Please update your imports to use 'transformers' instead.\n",
      "  from swanlab.integration.huggingface import SwanLabCallback\n"
     ]
    }
   ],
   "source": [
    "from swanlab.integration.huggingface import SwanLabCallback\n",
    "import swanlab\n",
    "\n",
    "swanlab_callback = SwanLabCallback(\n",
    "    project=\"GLM4-fintune\",\n",
    "    experiment_name=\"GLM4-9B-Chat\",\n",
    "    description=\"使用智谱GLM4-9B-Chat模型在zh_cls_fudan-news数据集上微调。\",\n",
    "    config={\n",
    "        \"model\": \"ZhipuAI/glm-4-9b-chat\",\n",
    "        \"dataset\": \"huangjintao/zh_cls_fudan-news\",\n",
    "    },\n",
    ")"
   ]
  },
  {
   "cell_type": "code",
   "execution_count": 10,
   "metadata": {},
   "outputs": [
    {
     "name": "stdout",
     "output_type": "stream",
     "text": [
      "\u001b[1m\u001b[34mswanlab\u001b[0m\u001b[0m: Tracking run with swanlab version 0.3.23                                  \n",
      "\u001b[1m\u001b[34mswanlab\u001b[0m\u001b[0m: Run data will be saved locally in \u001b[35m\u001b[1m/opt/app-root/src/LLM-Finetune/notebook/swanlog/run-20241030_065311-a3b1799d\u001b[0m\u001b[0m\n",
      "\u001b[1m\u001b[34mswanlab\u001b[0m\u001b[0m: 👋 Hi \u001b[1m\u001b[39malanliuxiang\u001b[0m\u001b[0m, welcome to swanlab!\n",
      "\u001b[1m\u001b[34mswanlab\u001b[0m\u001b[0m: Syncing run \u001b[33mGLM4-9B-Chat\u001b[0m to the cloud\n",
      "\u001b[1m\u001b[34mswanlab\u001b[0m\u001b[0m: 🌟 Run `\u001b[1mswanlab watch /opt/app-root/src/LLM-Finetune/notebook/swanlog\u001b[0m` to view SwanLab Experiment Dashboard locally\n",
      "\u001b[1m\u001b[34mswanlab\u001b[0m\u001b[0m: 🏠 View project at \u001b[34m\u001b[4mhttps://swanlab.cn/@alanliuxiang/GLM4-fintune\u001b[0m\u001b[0m\n",
      "\u001b[1m\u001b[34mswanlab\u001b[0m\u001b[0m: 🚀 View run at \u001b[34m\u001b[4mhttps://swanlab.cn/@alanliuxiang/GLM4-fintune/runs/cwa0yg7u3qlzu0dvh2m12\u001b[0m\u001b[0m\n"
     ]
    },
    {
     "data": {
      "text/html": [
       "\n",
       "<!DOCTYPE html>\n",
       "<html lang=\"en\">\n",
       "<head>\n",
       "    <meta charset=\"UTF-8\">\n",
       "    <meta name=\"viewport\" content=\"width=device-width, initial-scale=1.0\">\n",
       "    <title>Show Iframe</title>\n",
       "    \n",
       "        <script>\n",
       "            function showIframe() {\n",
       "                var iframeHtml = '<iframe src=\"https://swanlab.cn/@alanliuxiang/GLM4-fintune/runs/cwa0yg7u3qlzu0dvh2m12\" width=100% height=\"600\" frameborder=\"no\"></iframe>';\n",
       "                document.getElementById('iframeContainer').innerHTML = iframeHtml;\n",
       "            }\n",
       "        </script>\n",
       "        \n",
       "</head>\n",
       "<body>\n",
       "    <style>\n",
       "        .interactive-button {\n",
       "            display: flex;\n",
       "            align-items: center;\n",
       "            height: 36px;\n",
       "            border: 0px;\n",
       "            background-color: #2c8f63;\n",
       "            color: white;\n",
       "            padding: 10px 20px;\n",
       "            transition: background-color 0.3s, transform 0.2s;\n",
       "        }\n",
       "\n",
       "        .interactive-button:hover {\n",
       "            background-color: #5cab87;\n",
       "            cursor: pointer;\n",
       "        }\n",
       "\n",
       "        .interactive-button:active {\n",
       "            background-color: #217952;\n",
       "            transform: scale(0.96);\n",
       "        }\n",
       "    </style>\n",
       "    <br>\n",
       "    <button onclick=\"showIframe()\" class=\"interactive-button\">\n",
       "        <svg style=\"height: 16px; margin-right: 8px;\" viewBox=\"0 0 46 46\" fill=\"none\">\n",
       "            <path\n",
       "                d=\"M10.8439 21.1974C10.6414 21.2854 10.4477 21.3925 10.2655 21.5173L10.2069 21.5652C10.1839 21.58 10.1625 21.5969 10.1429 21.6159C6.29135 24.6118 4.22831 29.4416 5.32646 34.282C5.94656 37.0577 7.50461 39.5348 9.73801 41.2958C11.9714 43.0568 14.7436 43.994 17.5874 43.9495H18.0219C19.8864 43.8697 21.7087 43.3694 23.3526 42.486C24.9964 41.6026 26.4193 40.3589 27.5147 38.848C28.61 37.3371 29.3496 35.598 29.678 33.761C30.0065 31.9239 29.9153 30.0363 29.4112 28.2395C28.9181 26.4723 27.8919 24.8437 26.9937 23.2551C25.4158 20.4653 23.8343 17.6764 22.2492 14.8884C21.7801 14.0647 21.3057 13.2465 20.8419 12.4228C20.2315 11.3353 19.2746 10.1519 19.224 8.86183C19.1733 7.57176 20.2235 6.32701 21.5082 6.07912C23.9284 5.61801 25.0639 8.24078 25.0693 8.23812C25.363 8.94035 25.9123 9.50489 26.6063 9.81764C27.3002 10.1304 28.087 10.168 28.8077 9.92298C29.5283 9.67791 30.1291 9.1684 30.4885 8.49743C30.8479 7.82646 30.9392 7.04405 30.7439 6.30835C30.1514 4.37314 28.9133 2.69953 27.2363 1.56656C25.7615 0.511704 23.9847 -0.0372109 22.1719 0.00195984C20.9049 0.00893199 19.6532 0.27989 18.4967 0.797557C17.3402 1.31522 16.3043 2.06823 15.4551 3.00856C14.49 4.08707 13.7984 5.38193 13.4389 6.78385C13.0794 8.18576 13.0624 9.6536 13.3894 11.0635C13.52 11.593 13.6984 12.1095 13.9225 12.6067C14.5595 14.0514 15.4951 15.3681 16.284 16.7355C17.2525 18.4147 18.2209 20.0948 19.1893 21.7758C20.1578 23.4568 21.1351 25.1449 22.1213 26.8401C22.9209 28.2421 23.7925 29.4682 23.8805 31.1528C23.9175 32.0513 23.7682 32.9479 23.4419 33.7859C23.1156 34.6239 22.6194 35.3854 21.9845 36.0223C21.3496 36.6592 20.5897 37.1578 19.7527 37.4868C18.9157 37.8157 18.0196 37.9678 17.121 37.9336C14.0024 37.7923 11.6488 35.4814 11.1744 32.4588C10.58 28.6419 13.552 26.5469 13.552 26.5469C14.1782 26.1785 14.6497 25.5955 14.8791 24.906C15.1084 24.2166 15.0801 23.4673 14.7993 22.7971C14.5186 22.127 14.0044 21.5813 13.3521 21.2611C12.6998 20.941 11.9536 20.8682 11.2517 21.0561C11.1174 21.0939 10.9856 21.1402 10.8572 21.1947\"\n",
       "                fill=\"white\"\n",
       "            />\n",
       "            <path\n",
       "                d=\"M42.8101 31.5968C42.8109 30.5198 42.7218 29.4445 42.5435 28.3823C42.2663 26.7069 41.7464 25.0808 41.0002 23.5552C40.5524 22.6463 39.9874 21.7374 39.1024 21.2417C38.6593 20.9919 38.1589 20.8617 37.6502 20.8639C37.1416 20.8661 36.6423 21.0006 36.2013 21.2541C35.7604 21.5077 35.393 21.8716 35.1352 22.3101C34.8775 22.7485 34.7382 23.2466 34.7312 23.7552C34.7072 24.8773 35.3149 25.8875 35.768 26.9217C36.5212 28.6453 36.8623 30.5208 36.7642 32.3993C36.6661 34.2777 36.1315 36.1075 35.2029 37.7433C35.146 37.8404 35.0952 37.941 35.051 38.0445C34.8623 38.4842 34.7635 38.9573 34.7605 39.4358C34.7802 40.1222 35.0356 40.7808 35.4835 41.3011C35.9315 41.8214 36.5449 42.1717 37.2207 42.2932C38.8759 42.589 40.1899 41.347 40.8856 39.9609C42.1643 37.3589 42.823 34.4961 42.8101 31.5968Z\"\n",
       "                fill=\"white\"\n",
       "            />\n",
       "            <path\n",
       "                d=\"M28.2309 11.8938C28.1761 11.9043 28.1218 11.9176 28.0683 11.9338C27.9593 11.9642 27.8611 12.0249 27.7851 12.1088C27.7091 12.1928 27.6584 12.2965 27.6389 12.408C27.6193 12.5195 27.6318 12.6343 27.6748 12.7391C27.7178 12.8438 27.7895 12.9343 27.8818 12.9999C29.2375 14.0252 30.3809 15.3043 31.2482 16.7662C31.4838 17.1677 31.6888 17.5865 31.8612 18.0189C32.0052 18.3921 32.1971 18.8799 32.6822 18.8532C33.0607 18.8346 33.2153 18.512 33.3192 18.1895C33.8137 16.5125 33.9678 14.7534 33.7723 13.0159C33.6331 12.0693 33.4155 11.1359 33.122 10.2252C33.0775 10.0047 32.9744 9.80029 32.8235 9.6335C32.7273 9.54627 32.6054 9.49262 32.4761 9.4806C32.3468 9.46859 32.2171 9.49886 32.1065 9.56687C32.0016 9.65188 31.9115 9.75365 31.8399 9.86806C31.3956 10.4658 30.825 10.9581 30.1687 11.3101C29.8377 11.4861 29.4893 11.6272 29.1292 11.7312C28.828 11.8192 28.5215 11.8325 28.2309 11.8938Z\"\n",
       "                fill=\"white\"\n",
       "            />\n",
       "        </svg>\n",
       "        Display SwanLab Board\n",
       "    </button>\n",
       "    <br>\n",
       "    <div id=\"iframeContainer\"></div>\n",
       "</body>\n",
       "</html>\n"
      ],
      "text/plain": [
       "<IPython.core.display.HTML object>"
      ]
     },
     "metadata": {},
     "output_type": "display_data"
    },
    {
     "name": "stderr",
     "output_type": "stream",
     "text": [
      "\n",
      "[notice] A new release of pip available: 22.2.2 -> 24.3.1\n",
      "[notice] To update, run: pip install --upgrade pip\n",
      "`use_cache=True` is incompatible with gradient checkpointing. Setting `use_cache=False`...\n"
     ]
    },
    {
     "data": {
      "text/html": [
       "\n",
       "    <div>\n",
       "      \n",
       "      <progress value='124' max='124' style='width:300px; height:20px; vertical-align: middle;'></progress>\n",
       "      [124/124 19:30, Epoch 1/2]\n",
       "    </div>\n",
       "    <table border=\"1\" class=\"dataframe\">\n",
       "  <thead>\n",
       " <tr style=\"text-align: left;\">\n",
       "      <th>Step</th>\n",
       "      <th>Training Loss</th>\n",
       "    </tr>\n",
       "  </thead>\n",
       "  <tbody>\n",
       "    <tr>\n",
       "      <td>10</td>\n",
       "      <td>343.863300</td>\n",
       "    </tr>\n",
       "    <tr>\n",
       "      <td>20</td>\n",
       "      <td>3.238900</td>\n",
       "    </tr>\n",
       "    <tr>\n",
       "      <td>30</td>\n",
       "      <td>1.751800</td>\n",
       "    </tr>\n",
       "    <tr>\n",
       "      <td>40</td>\n",
       "      <td>1.039000</td>\n",
       "    </tr>\n",
       "    <tr>\n",
       "      <td>50</td>\n",
       "      <td>11.853500</td>\n",
       "    </tr>\n",
       "    <tr>\n",
       "      <td>60</td>\n",
       "      <td>0.051000</td>\n",
       "    </tr>\n",
       "    <tr>\n",
       "      <td>70</td>\n",
       "      <td>3.474300</td>\n",
       "    </tr>\n",
       "    <tr>\n",
       "      <td>80</td>\n",
       "      <td>0.261500</td>\n",
       "    </tr>\n",
       "    <tr>\n",
       "      <td>90</td>\n",
       "      <td>0.000400</td>\n",
       "    </tr>\n",
       "    <tr>\n",
       "      <td>100</td>\n",
       "      <td>0.004000</td>\n",
       "    </tr>\n",
       "    <tr>\n",
       "      <td>110</td>\n",
       "      <td>10.600300</td>\n",
       "    </tr>\n",
       "    <tr>\n",
       "      <td>120</td>\n",
       "      <td>1.716900</td>\n",
       "    </tr>\n",
       "  </tbody>\n",
       "</table><p>"
      ],
      "text/plain": [
       "<IPython.core.display.HTML object>"
      ]
     },
     "metadata": {},
     "output_type": "display_data"
    },
    {
     "name": "stderr",
     "output_type": "stream",
     "text": [
      "The attention mask is not set and cannot be inferred from input because pad token is same as eos token. As a consequence, you may observe unexpected behavior. Please pass your input's `attention_mask` to obtain reliable results.\n"
     ]
    },
    {
     "name": "stdout",
     "output_type": "stream",
     "text": [
      "Computerisuianatahone for all forereio- isianw: forma, oninaipapfinaianw:4 andoni: for aaseatuotainonaere.::RisuXuuduXfintandi:alatere.::Gon andonusi: a遇了,ianatuntinaereosereonu-: isatu2:one,ereereodetumat lou0, inianw: onus. in.::: andi:2, foram-2.. foramuiraone, inanacone,usaioneereereetatunton a ... inaspy::Séis foru32:uahat foruahunone.4 andusianw:icere,elonu: forolved toainuinedumonuöainimaianatontelis isereonuudere.4 inisis andonu. forrestetereahniereere.::Sere.,atere.,maamacet.,awcunif. deereetosatuaininais foruöonuereio- foruainatlocumoni: forisanu3 inionacuone forere. for theatuł: forigraphy isip:::awallonipiron foru tilunhapeti:iaitaet,ereereere.,awm4ere. foric/. forentsere. atton  OB:. inund:::Cul. andesatuawu deianimu,atmani:is for theatisatfumanif forangu deere.::Gund:::Risatam Iawahone inu2 deereility..4 deereereereereeti:am4 deere.,attranhirereereinaoni:is for a�ularu3.::A. foruainio.4 for theonu/ deereenaereudinaereere.  wasipierce isieatiair:.::Cainu,4 for a obsc: forma,, ofio ismaone,ereio.4 forunere.4  RVumatinaianw:us inusai, and and..\n",
      "Spaceondenaereereereere. for locom5,atlock andonuaw:icetusmaamadet isereere. foris aftpere.. foruuneereonis forunere. aremim a2: isereereere.4, is.::Gle deudereereudone inusacat.,aluianatmauianatu:ioBosir:ianat  .atangat the2. deereat forereudereere. deonuXuinedumonus. deu- onus fori:io.ereonus: fori:::am inéuR:is forip::J:isasfawv3at2..::SAPGRININ-Tantruot isatatis and.5 isuah: forentsereereatisieatatus forunacayuianatu2,usolasatat ..,ie,ereadaetamone isiranand toainapwatapu2:in theatmosatusatuiraudidaqueereere.. for the isat foramis foruahatereatasunenaereere. deere.atu2.3atia. forereataya'suXis foricuianw:aneereereinaonf:icereereenaereio foru2: a遇被ipereiootosatouiraatamatus foramirone,isas3 formaoneereone.4 deonu2awuiraernetat2,us andum forangonuiraudainatlopeteton theonuianatuone toudanereudongere.. forrestumu.::ami:::AapuXawon toaini: for the.::Bunhereatudonaere,alu, andon thekainatei:ianataplocoatapicita forunhapatia2, deere.,, andie isawatuawamcolocosmimaunere,is andenudetereereatereas foruStu3u2 and forents for a遇ifatamelu2.::K:iaereetumonusunusin for the\n",
      "Politics andereere.a deere.4 isanenaianatmanu1,ianatatma deereumereatlocusai isunereeti: for a�inaiankatu3G isat the notummaatusianw:uneereat2.::Bentesinumas a wereianatiaioplot. peri: foruöu2  4 in. onianatf.4. forusanóainatmaonularatahatam is and.::-unu2 andes6,ereasuduXuotis andinumatere. inusainchedetonusamone isacantif isereon.::/ereat   VV...ereereosu4,elu2: foru.i:. forf.2u.2:ianatuntetanone is and foru6:iris foramv4 andusia1:atereereereina. deonusianatusuö: foruianatv. ulauotlopetonu,,ironuF:esu-2,iron for for theone fori:ineioRund:if andieu:atapetonuF:atereonusere.4 inuspyet.:::atusmai:4 toainacuotantruiningereereereenduXum- foris andainantisalv84,irone inidaetanacssudereereena dehantatontereanuianatis for Ienaere.at wayatisianatiaereereatayaereereuXumatlock forentset deere. fori:usi:onu/ianmuk: andi:::A. inisisisatat2: forenuuianatf: inus foruséam for aianatinaianatu-:iratouenaereinaonuereapssu: inouereereio: and Iu: inianw4.::I:onuianat the adone2: isasudu-rat 4,,ereereereudacodat 4. foru:ir:usé deereioBless,ir::: .4\n",
      "Art and iséalatf:ané dehereere isitaereetisuianatapicuöund:aianw:anées:ir: formaesiratis a�ereetu/ deonuone.2. foramco: foramirmanuianatamuianatah,isu-:atfah:one isat if formaianatmaat forenuere. deereio isuöuMudainchedetoni:atonton theatuiankianatapaya isisatereatamone deereudone...:::iaunhu-ianatuntinaudainuXu-: and theone. inidaatu6 and andis for a破onu0..atiau2, dehuiraquei: forolved for the is.5 andaini:ianatusanacuereanouere.aianat a差!,inaereudenaereio forma deereere.::Gereudenaereereereereereud:4,ir:alumatamf:iaimone,ereio,irummaatuR:at2: forone,atouawu6.3 andonu.ie andu2:::R:iratanganóund:io, andon touöereatf. for   CantuGund:is foripatouawuł:ereere.  LAM4,ir:am isere, ismaonuiraudu-:ereet isat  .4 dees..4 forentsereere. forone fori:iokaat3, fori: a wereianw:is forresti:3,al:atuntendan for a�ah,irone.4uiraudu3ainumetos:atusu-: is. andi:ioF: the isatis foruianatu- formaere.:::oni:allopis foramacnumone forangu6,irone for for a遇!, isisat theone foris forumonuspyitaereereereereereatat theone forfamasuöu/:::2,u-,maattrone\n",
      "History ofinaereatmaesereereetisereas wasallam4 isos:atinaudone isuRund:ineereereenaereereereanususéum.4. forereatus and, and.::A for theatereereahopetone.ironuianku2,ereatuianw:iciratis forfudainanavodin toudu deereereereuereerei:ioone,4awu2:2,iratisisaluudatusatah,am andi: forereere.4,is for I: for foru:alvod:at2,awu,ereereere.::MCT. areas a3. andi:u-ron for forolved toereinaianat2: forereinaereudonaereerei: for a�ainatrestonusu2:if,iratapetam4,alawh foruah:2, andi:usatonti: for the the a1. for theone forentsouiraqueereanifawapere.,ereendl: andainetosby:iaque,ma4 deelenaularunu0 fori: inianatasatatone,inaereu: andereereanuianim and. inaereonuÖetas isattri:awu-:atonti:. inis for Ii:irone isigatuawuereanu2:atusipereudularisianw:irone, onianatam-ianatuntatangat theone in theatuinedoneereereoduöere. for theianw: forolvedidaumone,alacu5ereereereereio for for. for theereio... inisir: forentsereena isipatamalv. dehu2. areat thearaund:am. inuawhawapinusacuinaudianatf: and isuinedu.2.::uGonusir:esinisiratu2,ereereasudonus andu3: foruahciruainuinedone.. are for foru82.::J:ir:is for aXu\n",
      "Space'solotatu5. for 4,ieu2.,ma,amco: isunuawatuianat2: andianw:ianatuah,isianatouonusainuone isaraio4.!::: andon oni: for a isat isawhone,inausat for foru1: andie and..:::::onu:isas toonuF:ioR: for foru2.ianw: deereosanacatouir: theatu6. and. and isasuiankirone,.5 initatuGewatouuianatma,. forusineereereereere.. deereatuXatma2,ir:ereioLockonu-awaploatatusuotasuainatressuduereere. deere. andonuontzapetumonu. foru2:one toereioatis the isatereeti:4: for for theantulipisiratu1,atinaerean for.::J.ianatu2 and Iereereio isacatloc:at andereatamhendularone is.:::ere.i:io-ianwawd isouonu2. for. for a generationis aa,awonu0.::Gund:ouere.aawc.:::amatatlopatu2,ereerei:.,ir:.::Cudinaere.IRi: for a=. andumonuXukaunawaplo decrem4, deereudatfendula isawawarhita deereere. for a2, forrestesudere,ir:ianat  deere.. deusi: foru2: andi: forf: for.   4,ianu.::Cunatlockularu2.ir:uspyita isisuotu2.::::uséamone toianw:atinaianat.,irone,, inuXilu6: for a3 wayisironiselenaere, onisasuawu-ianw: ismaatu- deereatangu-:atrestum\n",
      "Transportanuoti:ioLockonuöunusiair:us for a盘enaereosataraimatouonu- deereonuöawu.:::is for a粗imaatuianatuotone,ereio, forukratuereereendantruawmaesu5, inusereio for theatis inanavoni:ereatlocku2, for theatere isereahopereinaianvitaatisi:usisawhattratamuianatf:ianatu. for a遇界atmaamuöumonusawmisere. forfum for theatlopereitto isianatleisianatusatis forere.::Renaereeton toi: for theianatah andouuah,.::N.:::ianatmani: for a日-ianatfisawi: acatuXereimaumonus andesuianatusiplocund:irereereio.gone foranginaianatlocenaereududangatuF:unu0, anduXv6ereereatusisinaianw:ianat the0..aianw: abvianw:iaunat theuianw:::K:iaere.I:usianu2.::C:4ereenaianatis and the isianu deereereittoereereawcassainu6. formaanone isamatouawm2.:::one,unenaere,alifumat theianw: for theusmaone2,am- isereereereereudularereereereendularas for a a2:uianw:::R:ironuere.,is foraminereetasus for a只为人ere.a forma deereere. forereoseti: for foramone isatou,ereerei:ir:ereeti:iranóumoxuianatu2:ianatasusi: inis foruawv2. andasianw:usaini: forumaniaatamas4,awma deereendentl: for the isamu,i:ere., ismaereatouere.\n",
      "Literantru2, andereas3 foripatisatressereonidaereudere. for foru2 andoneere..ieu/ deereerei:::R: andinaianatah, andi: foruainatciratu-, foru-ianu:ereatmaere.awh2uahu2.:: deesatuawu: is. forainataploin.::A isereanuianat the isodat theone,awuXunonusularitaereereetosasuennone, andusanacone,u deereereioLock andinaipere. deereere.::Mantatv2N. foru4 for a ...:am.. for the isasumone,ereioB:io, andis for aa2. for isawamonu3u4, inuiraai,atusainuianatapu2:atas andonusuone., inidaip::Rianw:ianat forrestoumeri:atuawingereudanuah,ir:icu6 to the isasatus andusu3,ianu4,ere. deereudetone toainonaereerei: forereere.4,ir: forawuX2. foricitaereinaatu, for theatisuianatunu3ereereetis for forangereonuined:4. forereereetironu6uot: the'suawu deu6 inunereodacone2 and forucreuira wasułatatv., onuXereod:ususie,iratlopere. foru.IR wasone,usu-ianatusuianatuone,alamone, and for a abawuaham for theianatisum:atatis for.2 deonuXerei:if. for Iere.,is aOH Iainularit isigat the!:::ere,ereere.::F:at theianatressonuaini:. foruone, andereio.,iris and andusuudereudacere.,mau6,ironuoneereittoone isere\n",
      "\n",
      ". inuianu1ereudonaianatu: foram .,atv1. . for theianatouawarisileetat   Jatunton forisalimatereudetanenaianimacu6 andonu2.::::::u2:un,.4 deonuspylocumu6 isuahopereereatmaamat2:..4 deereahopisu6 toianatlock onusamone. for aOHGC: foraminelonuF: forereereereereere.::-ianatvavacuiraudu-2.3,awm4,ir:irenaere.::J.::us for.:::usané deereudanone, isacmummaone isanapiron. inuawu-awuainetinaieckereereosu, isere. forma2: inereos:::2: foruslocu2 andoni:if,,isusis for aaianatahone forenuereone for for the,iron the2uone toere.2,am and, fori:uaw, onbisetahetonf1, for.I:atis foranghawh foramonuM. areuone,ere..::J. for Iataya, inereereudianw: andis for foruereereinaisam.::R: for.iron you,awuone andoncomusacereereereereinaianatatisawd:irisieuianat2 deereere.3 andetumatam 2:usaniaunenaere. foramonuX isunusanu6, for  is foripisamuSt: for  a�at2: forma,ir:2: forolved  wayumatinaatinaereudatmanucreuennum for a3,atusineetanacantisawmir: forisawu5 andis forangamelone isuudatuGund:::Tusu2:::Aianw:iaianat2: isereanéisis for . inere,usuahfund:iratgant\n",
      "ArtonuFuluséahciaereanu6,am I. foris a整体ianatusisere. deelone is.  Ji: for the isis foruianatuianatudeti: foruöawahetone toonti:.3ainanawu:anuXenio4uonti:.  Cere.,ianatlopet deon  Lentuianatisawuawuiankatamat themaanu3 touud:alv1. andiaatamatereereere,ie2: foriankuereio,ir:is forin. for the a只为使ereasunhah, isatouonuX isu. deisawar4.!,ianw:one wasulusineereudataya isianatis anderei:onuawuö: andonisaponu tilunuainereinaonusainanhinauereerecover andereereenaosereanéuinedonu-.::I: anda.::R:at for theere.4. forunereonumaone toianimunesam1,ianatudi:ereereere.::I canereetinaonuF: foris that’souawat foruahone isunere, for a1.::R:::Cund:atlockatu2.ere.. andi: and. forunif foruianwapatiselenaereereinaudetereetone,isianw:.::A.  andere. deereatusada and for the aianw:ereudainateere isudetis a由于了解！,maesesere. areatahone,ereerein for auanatone toainatressesudere. 4,irone, isereere.  deereio::Jusu,.2.4.:::one.::-ianw:is forfund: forrestesatuntinaereereahuöonuianw:i: isanv-amatas foramuianw:unhainantonisatisawc: inereatat theat foru.!2. for..::R:ere.4\n",
      "\u001b[1m\u001b[34mswanlab\u001b[0m\u001b[0m: 🌟 Run `\u001b[1mswanlab watch /opt/app-root/src/LLM-Finetune/notebook/swanlog\u001b[0m` to view SwanLab Experiment Dashboard locally\n",
      "\u001b[1m\u001b[34mswanlab\u001b[0m\u001b[0m: 🏠 View project at \u001b[34m\u001b[4mhttps://swanlab.cn/@alanliuxiang/GLM4-fintune\u001b[0m\u001b[0m\n",
      "\u001b[1m\u001b[34mswanlab\u001b[0m\u001b[0m: 🚀 View run at \u001b[34m\u001b[4mhttps://swanlab.cn/@alanliuxiang/GLM4-fintune/runs/cwa0yg7u3qlzu0dvh2m12\u001b[0m\u001b[0m\n",
      "                                                                                                    \r"
     ]
    }
   ],
   "source": [
    "trainer = Trainer(\n",
    "    model=model,\n",
    "    args=args,\n",
    "    train_dataset=train_dataset,\n",
    "    data_collator=DataCollatorForSeq2Seq(tokenizer=tokenizer, padding=True),\n",
    "    callbacks=[swanlab_callback],\n",
    ")\n",
    "\n",
    "trainer.train()\n",
    "\n",
    "\n",
    "# ====== 训练结束后的预测 ===== #\n",
    "\n",
    "def predict(messages, model, tokenizer):\n",
    "    # device = \"cuda\"\n",
    "    device = \"cuda\"\n",
    "    text = tokenizer.apply_chat_template(messages, tokenize=False, add_generation_prompt=True)\n",
    "    model_inputs = tokenizer([text], return_tensors=\"pt\").to(device)\n",
    "    generated_ids = model.generate(model_inputs.input_ids, max_new_tokens=512)\n",
    "    generated_ids = [\n",
    "        output_ids[len(input_ids) :]\n",
    "        for input_ids, output_ids in zip(model_inputs.input_ids, generated_ids)\n",
    "    ]\n",
    "\n",
    "    response = tokenizer.batch_decode(generated_ids, skip_special_tokens=True)[0]\n",
    "    print(response)\n",
    "\n",
    "    return response\n",
    "    \n",
    "\n",
    "test_text_list = []\n",
    "for index, row in test_df.iterrows():\n",
    "    instruction = row[\"instruction\"]\n",
    "    input_value = row[\"input\"]\n",
    "\n",
    "    messages = [\n",
    "        {\"role\": \"system\", \"content\": f\"{instruction}\"},\n",
    "        {\"role\": \"user\", \"content\": f\"{input_value}\"},\n",
    "    ]\n",
    "\n",
    "    response = predict(messages, model, tokenizer)\n",
    "    messages.append({\"role\": \"assistant\", \"content\": f\"{response}\"})\n",
    "    result_text = f\"{messages[0]}\\n\\n{messages[1]}\\n\\n{messages[2]}\"\n",
    "    test_text_list.append(swanlab.Text(result_text, caption=response))\n",
    "\n",
    "swanlab.log({\"Prediction\": test_text_list})\n",
    "swanlab.finish()"
   ]
  }
 ],
 "metadata": {
  "kernelspec": {
   "display_name": "Python 3.9",
   "language": "python",
   "name": "python3"
  },
  "language_info": {
   "codemirror_mode": {
    "name": "ipython",
    "version": 3
   },
   "file_extension": ".py",
   "mimetype": "text/x-python",
   "name": "python",
   "nbconvert_exporter": "python",
   "pygments_lexer": "ipython3",
   "version": "3.9.18"
  }
 },
 "nbformat": 4,
 "nbformat_minor": 4
}
